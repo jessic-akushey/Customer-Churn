{
 "cells": [
  {
   "cell_type": "markdown",
   "id": "4ae4766e",
   "metadata": {},
   "source": [
    "# Telecommunication Churn Rate\n",
    "\n",
    "A telecommunication service providers has provided [data](https://www.kaggle.com/datasets/datazng/telecom-company-churn-rate-call-center-data) on past clients and their churn, that is whether or not they left the company as clients. Their goal is to develop a model that can predict whether or not a new client or an existing client is going to leave the company. The data collected on the clients pertain to their gender, number of years they have been with the company, whether or not they have dependents, their number of dependents, etc.\n",
    "\n",
    "The target variable __Churn__ contains 2 classes __Yes__ and __No__. Yes means that the client leaves the company and No means the client stayed. \n",
    "\n",
    "Creating a predictive model will help the company know the clients who will leave the company and help put in place measures to keep these clients, for instances making them great offers. \n",
    "\n",
    "The data would be collected from the company's database. \n",
    "\n",
    "#### Problem Statement\n",
    "Create a predictive model that classifys a client as Churn (__Yes__) or Not Churn (__No__).\n",
    "This new model will be used throughout the company to ensure maximum company and client satisfaction"
   ]
  },
  {
   "cell_type": "markdown",
   "id": "283a4244",
   "metadata": {},
   "source": [
    "## Importing the libraries needed for the tasks"
   ]
  },
  {
   "cell_type": "code",
   "execution_count": 1,
   "id": "d22d41c6",
   "metadata": {},
   "outputs": [],
   "source": [
    "# importing libraries\n",
    "\n",
    "\n",
    "# for data importing and manipulation\n",
    "import pandas as pd   \n",
    "\n",
    "# for data array and matrix manipulation\n",
    "import numpy as np  \n",
    "\n",
    "# for plotting data\n",
    "import matplotlib.pyplot as plt \n",
    "\n",
    "# for encoding and standizing the data\n",
    "from sklearn.compose import ColumnTransformer\n",
    "from sklearn.preprocessing import StandardScaler\n",
    "from sklearn.preprocessing import OneHotEncoder\n",
    "\n",
    "# to handle imbalanced data\n",
    "from imblearn.over_sampling import SMOTE\n",
    "\n",
    "# to split the dataset into train and test set\n",
    "from sklearn.model_selection import train_test_split\n",
    "\n",
    "# for performing hyperparameter tuning\n",
    "from sklearn.model_selection import GridSearchCV\n",
    "\n",
    "# models to be trained\n",
    "from sklearn.tree import DecisionTreeClassifier\n",
    "from sklearn.linear_model import LogisticRegression\n",
    "from sklearn.ensemble import RandomForestClassifier\n",
    "from sklearn.svm import SVC\n",
    "from sklearn.neighbors import KNeighborsClassifier\n",
    "\n",
    "# for model evaluation \n",
    "from sklearn.metrics import accuracy_score\n",
    "from sklearn.metrics import classification_report, confusion_matrix\n",
    "from sklearn.metrics import precision_recall_fscore_support as score"
   ]
  },
  {
   "cell_type": "markdown",
   "id": "495ab12f",
   "metadata": {},
   "source": [
    "## Reading and Inspecting the data\n",
    "\n",
    "\n",
    "#### Reading the csv file\n",
    "The file containing the data is a comma seperated val file. The Pandas library has a function that can be used to import files of different formats including .csv files"
   ]
  },
  {
   "cell_type": "code",
   "execution_count": 2,
   "id": "fe66eb29",
   "metadata": {},
   "outputs": [
    {
     "data": {
      "text/html": [
       "<div>\n",
       "<style scoped>\n",
       "    .dataframe tbody tr th:only-of-type {\n",
       "        vertical-align: middle;\n",
       "    }\n",
       "\n",
       "    .dataframe tbody tr th {\n",
       "        vertical-align: top;\n",
       "    }\n",
       "\n",
       "    .dataframe thead th {\n",
       "        text-align: right;\n",
       "    }\n",
       "</style>\n",
       "<table border=\"1\" class=\"dataframe\">\n",
       "  <thead>\n",
       "    <tr style=\"text-align: right;\">\n",
       "      <th></th>\n",
       "      <th>customerID</th>\n",
       "      <th>gender</th>\n",
       "      <th>SeniorCitizen</th>\n",
       "      <th>Partner</th>\n",
       "      <th>Dependents</th>\n",
       "      <th>tenure</th>\n",
       "      <th>PhoneService</th>\n",
       "      <th>MultipleLines</th>\n",
       "      <th>InternetService</th>\n",
       "      <th>OnlineSecurity</th>\n",
       "      <th>...</th>\n",
       "      <th>StreamingTV</th>\n",
       "      <th>StreamingMovies</th>\n",
       "      <th>Contract</th>\n",
       "      <th>PaperlessBilling</th>\n",
       "      <th>PaymentMethod</th>\n",
       "      <th>MonthlyCharges</th>\n",
       "      <th>TotalCharges</th>\n",
       "      <th>numAdminTickets</th>\n",
       "      <th>numTechTickets</th>\n",
       "      <th>Churn</th>\n",
       "    </tr>\n",
       "  </thead>\n",
       "  <tbody>\n",
       "    <tr>\n",
       "      <th>0</th>\n",
       "      <td>7590-VHVEG</td>\n",
       "      <td>Female</td>\n",
       "      <td>0</td>\n",
       "      <td>Yes</td>\n",
       "      <td>No</td>\n",
       "      <td>1</td>\n",
       "      <td>No</td>\n",
       "      <td>No phone service</td>\n",
       "      <td>DSL</td>\n",
       "      <td>No</td>\n",
       "      <td>...</td>\n",
       "      <td>No</td>\n",
       "      <td>No</td>\n",
       "      <td>Month-to-month</td>\n",
       "      <td>Yes</td>\n",
       "      <td>Electronic check</td>\n",
       "      <td>29.85</td>\n",
       "      <td>29.85</td>\n",
       "      <td>0</td>\n",
       "      <td>0</td>\n",
       "      <td>No</td>\n",
       "    </tr>\n",
       "    <tr>\n",
       "      <th>1</th>\n",
       "      <td>5575-GNVDE</td>\n",
       "      <td>Male</td>\n",
       "      <td>0</td>\n",
       "      <td>No</td>\n",
       "      <td>No</td>\n",
       "      <td>34</td>\n",
       "      <td>Yes</td>\n",
       "      <td>No</td>\n",
       "      <td>DSL</td>\n",
       "      <td>Yes</td>\n",
       "      <td>...</td>\n",
       "      <td>No</td>\n",
       "      <td>No</td>\n",
       "      <td>One year</td>\n",
       "      <td>No</td>\n",
       "      <td>Mailed check</td>\n",
       "      <td>56.95</td>\n",
       "      <td>1889.5</td>\n",
       "      <td>0</td>\n",
       "      <td>0</td>\n",
       "      <td>No</td>\n",
       "    </tr>\n",
       "    <tr>\n",
       "      <th>2</th>\n",
       "      <td>3668-QPYBK</td>\n",
       "      <td>Male</td>\n",
       "      <td>0</td>\n",
       "      <td>No</td>\n",
       "      <td>No</td>\n",
       "      <td>2</td>\n",
       "      <td>Yes</td>\n",
       "      <td>No</td>\n",
       "      <td>DSL</td>\n",
       "      <td>Yes</td>\n",
       "      <td>...</td>\n",
       "      <td>No</td>\n",
       "      <td>No</td>\n",
       "      <td>Month-to-month</td>\n",
       "      <td>Yes</td>\n",
       "      <td>Mailed check</td>\n",
       "      <td>53.85</td>\n",
       "      <td>108.15</td>\n",
       "      <td>0</td>\n",
       "      <td>0</td>\n",
       "      <td>Yes</td>\n",
       "    </tr>\n",
       "    <tr>\n",
       "      <th>3</th>\n",
       "      <td>7795-CFOCW</td>\n",
       "      <td>Male</td>\n",
       "      <td>0</td>\n",
       "      <td>No</td>\n",
       "      <td>No</td>\n",
       "      <td>45</td>\n",
       "      <td>No</td>\n",
       "      <td>No phone service</td>\n",
       "      <td>DSL</td>\n",
       "      <td>Yes</td>\n",
       "      <td>...</td>\n",
       "      <td>No</td>\n",
       "      <td>No</td>\n",
       "      <td>One year</td>\n",
       "      <td>No</td>\n",
       "      <td>Bank transfer (automatic)</td>\n",
       "      <td>42.30</td>\n",
       "      <td>1840.75</td>\n",
       "      <td>0</td>\n",
       "      <td>3</td>\n",
       "      <td>No</td>\n",
       "    </tr>\n",
       "    <tr>\n",
       "      <th>4</th>\n",
       "      <td>9237-HQITU</td>\n",
       "      <td>Female</td>\n",
       "      <td>0</td>\n",
       "      <td>No</td>\n",
       "      <td>No</td>\n",
       "      <td>2</td>\n",
       "      <td>Yes</td>\n",
       "      <td>No</td>\n",
       "      <td>Fiber optic</td>\n",
       "      <td>No</td>\n",
       "      <td>...</td>\n",
       "      <td>No</td>\n",
       "      <td>No</td>\n",
       "      <td>Month-to-month</td>\n",
       "      <td>Yes</td>\n",
       "      <td>Electronic check</td>\n",
       "      <td>70.70</td>\n",
       "      <td>151.65</td>\n",
       "      <td>0</td>\n",
       "      <td>0</td>\n",
       "      <td>Yes</td>\n",
       "    </tr>\n",
       "  </tbody>\n",
       "</table>\n",
       "<p>5 rows × 23 columns</p>\n",
       "</div>"
      ],
      "text/plain": [
       "   customerID  gender  SeniorCitizen Partner Dependents  tenure PhoneService  \\\n",
       "0  7590-VHVEG  Female              0     Yes         No       1           No   \n",
       "1  5575-GNVDE    Male              0      No         No      34          Yes   \n",
       "2  3668-QPYBK    Male              0      No         No       2          Yes   \n",
       "3  7795-CFOCW    Male              0      No         No      45           No   \n",
       "4  9237-HQITU  Female              0      No         No       2          Yes   \n",
       "\n",
       "      MultipleLines InternetService OnlineSecurity  ... StreamingTV  \\\n",
       "0  No phone service             DSL             No  ...          No   \n",
       "1                No             DSL            Yes  ...          No   \n",
       "2                No             DSL            Yes  ...          No   \n",
       "3  No phone service             DSL            Yes  ...          No   \n",
       "4                No     Fiber optic             No  ...          No   \n",
       "\n",
       "  StreamingMovies        Contract PaperlessBilling              PaymentMethod  \\\n",
       "0              No  Month-to-month              Yes           Electronic check   \n",
       "1              No        One year               No               Mailed check   \n",
       "2              No  Month-to-month              Yes               Mailed check   \n",
       "3              No        One year               No  Bank transfer (automatic)   \n",
       "4              No  Month-to-month              Yes           Electronic check   \n",
       "\n",
       "  MonthlyCharges TotalCharges numAdminTickets  numTechTickets Churn  \n",
       "0          29.85        29.85               0               0    No  \n",
       "1          56.95       1889.5               0               0    No  \n",
       "2          53.85       108.15               0               0   Yes  \n",
       "3          42.30      1840.75               0               3    No  \n",
       "4          70.70       151.65               0               0   Yes  \n",
       "\n",
       "[5 rows x 23 columns]"
      ]
     },
     "execution_count": 2,
     "metadata": {},
     "output_type": "execute_result"
    }
   ],
   "source": [
    "# importing the dataset using pandas' .read_csv\n",
    "df = pd.read_excel(\"Telecom Churn Rate Dataset.xlsx\")\n",
    "\n",
    "# displaying the first five rows of the data\n",
    "df.head()"
   ]
  },
  {
   "cell_type": "code",
   "execution_count": 3,
   "id": "327999cf",
   "metadata": {},
   "outputs": [
    {
     "name": "stdout",
     "output_type": "stream",
     "text": [
      "<class 'pandas.core.frame.DataFrame'>\n",
      "RangeIndex: 7043 entries, 0 to 7042\n",
      "Data columns (total 23 columns):\n",
      " #   Column            Non-Null Count  Dtype  \n",
      "---  ------            --------------  -----  \n",
      " 0   customerID        7043 non-null   object \n",
      " 1   gender            7043 non-null   object \n",
      " 2   SeniorCitizen     7043 non-null   int64  \n",
      " 3   Partner           7043 non-null   object \n",
      " 4   Dependents        7043 non-null   object \n",
      " 5   tenure            7043 non-null   int64  \n",
      " 6   PhoneService      7043 non-null   object \n",
      " 7   MultipleLines     7043 non-null   object \n",
      " 8   InternetService   7043 non-null   object \n",
      " 9   OnlineSecurity    7043 non-null   object \n",
      " 10  OnlineBackup      7043 non-null   object \n",
      " 11  DeviceProtection  7043 non-null   object \n",
      " 12  TechSupport       7043 non-null   object \n",
      " 13  StreamingTV       7043 non-null   object \n",
      " 14  StreamingMovies   7043 non-null   object \n",
      " 15  Contract          7043 non-null   object \n",
      " 16  PaperlessBilling  7043 non-null   object \n",
      " 17  PaymentMethod     7043 non-null   object \n",
      " 18  MonthlyCharges    7043 non-null   float64\n",
      " 19  TotalCharges      7043 non-null   object \n",
      " 20  numAdminTickets   7043 non-null   int64  \n",
      " 21  numTechTickets    7043 non-null   int64  \n",
      " 22  Churn             7043 non-null   object \n",
      "dtypes: float64(1), int64(4), object(18)\n",
      "memory usage: 1.2+ MB\n"
     ]
    }
   ],
   "source": [
    "df.info()"
   ]
  },
  {
   "cell_type": "code",
   "execution_count": 4,
   "id": "0ed9b2d3",
   "metadata": {},
   "outputs": [
    {
     "data": {
      "text/html": [
       "<div>\n",
       "<style scoped>\n",
       "    .dataframe tbody tr th:only-of-type {\n",
       "        vertical-align: middle;\n",
       "    }\n",
       "\n",
       "    .dataframe tbody tr th {\n",
       "        vertical-align: top;\n",
       "    }\n",
       "\n",
       "    .dataframe thead th {\n",
       "        text-align: right;\n",
       "    }\n",
       "</style>\n",
       "<table border=\"1\" class=\"dataframe\">\n",
       "  <thead>\n",
       "    <tr style=\"text-align: right;\">\n",
       "      <th></th>\n",
       "      <th>customerID</th>\n",
       "      <th>gender</th>\n",
       "      <th>SeniorCitizen</th>\n",
       "      <th>Partner</th>\n",
       "      <th>Dependents</th>\n",
       "      <th>tenure</th>\n",
       "      <th>PhoneService</th>\n",
       "      <th>MultipleLines</th>\n",
       "      <th>InternetService</th>\n",
       "      <th>OnlineSecurity</th>\n",
       "      <th>...</th>\n",
       "      <th>StreamingTV</th>\n",
       "      <th>StreamingMovies</th>\n",
       "      <th>Contract</th>\n",
       "      <th>PaperlessBilling</th>\n",
       "      <th>PaymentMethod</th>\n",
       "      <th>MonthlyCharges</th>\n",
       "      <th>TotalCharges</th>\n",
       "      <th>numAdminTickets</th>\n",
       "      <th>numTechTickets</th>\n",
       "      <th>Churn</th>\n",
       "    </tr>\n",
       "  </thead>\n",
       "  <tbody>\n",
       "    <tr>\n",
       "      <th>count</th>\n",
       "      <td>7043</td>\n",
       "      <td>7043</td>\n",
       "      <td>7043.000000</td>\n",
       "      <td>7043</td>\n",
       "      <td>7043</td>\n",
       "      <td>7043.000000</td>\n",
       "      <td>7043</td>\n",
       "      <td>7043</td>\n",
       "      <td>7043</td>\n",
       "      <td>7043</td>\n",
       "      <td>...</td>\n",
       "      <td>7043</td>\n",
       "      <td>7043</td>\n",
       "      <td>7043</td>\n",
       "      <td>7043</td>\n",
       "      <td>7043</td>\n",
       "      <td>7043.000000</td>\n",
       "      <td>7043</td>\n",
       "      <td>7043.000000</td>\n",
       "      <td>7043.000000</td>\n",
       "      <td>7043</td>\n",
       "    </tr>\n",
       "    <tr>\n",
       "      <th>unique</th>\n",
       "      <td>7043</td>\n",
       "      <td>2</td>\n",
       "      <td>NaN</td>\n",
       "      <td>2</td>\n",
       "      <td>2</td>\n",
       "      <td>NaN</td>\n",
       "      <td>2</td>\n",
       "      <td>3</td>\n",
       "      <td>3</td>\n",
       "      <td>3</td>\n",
       "      <td>...</td>\n",
       "      <td>3</td>\n",
       "      <td>3</td>\n",
       "      <td>3</td>\n",
       "      <td>2</td>\n",
       "      <td>4</td>\n",
       "      <td>NaN</td>\n",
       "      <td>6531</td>\n",
       "      <td>NaN</td>\n",
       "      <td>NaN</td>\n",
       "      <td>2</td>\n",
       "    </tr>\n",
       "    <tr>\n",
       "      <th>top</th>\n",
       "      <td>7590-VHVEG</td>\n",
       "      <td>Male</td>\n",
       "      <td>NaN</td>\n",
       "      <td>No</td>\n",
       "      <td>No</td>\n",
       "      <td>NaN</td>\n",
       "      <td>Yes</td>\n",
       "      <td>No</td>\n",
       "      <td>Fiber optic</td>\n",
       "      <td>No</td>\n",
       "      <td>...</td>\n",
       "      <td>No</td>\n",
       "      <td>No</td>\n",
       "      <td>Month-to-month</td>\n",
       "      <td>Yes</td>\n",
       "      <td>Electronic check</td>\n",
       "      <td>NaN</td>\n",
       "      <td></td>\n",
       "      <td>NaN</td>\n",
       "      <td>NaN</td>\n",
       "      <td>No</td>\n",
       "    </tr>\n",
       "    <tr>\n",
       "      <th>freq</th>\n",
       "      <td>1</td>\n",
       "      <td>3555</td>\n",
       "      <td>NaN</td>\n",
       "      <td>3641</td>\n",
       "      <td>4933</td>\n",
       "      <td>NaN</td>\n",
       "      <td>6361</td>\n",
       "      <td>3390</td>\n",
       "      <td>3096</td>\n",
       "      <td>3498</td>\n",
       "      <td>...</td>\n",
       "      <td>2810</td>\n",
       "      <td>2785</td>\n",
       "      <td>3875</td>\n",
       "      <td>4171</td>\n",
       "      <td>2365</td>\n",
       "      <td>NaN</td>\n",
       "      <td>11</td>\n",
       "      <td>NaN</td>\n",
       "      <td>NaN</td>\n",
       "      <td>5174</td>\n",
       "    </tr>\n",
       "    <tr>\n",
       "      <th>mean</th>\n",
       "      <td>NaN</td>\n",
       "      <td>NaN</td>\n",
       "      <td>0.162147</td>\n",
       "      <td>NaN</td>\n",
       "      <td>NaN</td>\n",
       "      <td>32.371149</td>\n",
       "      <td>NaN</td>\n",
       "      <td>NaN</td>\n",
       "      <td>NaN</td>\n",
       "      <td>NaN</td>\n",
       "      <td>...</td>\n",
       "      <td>NaN</td>\n",
       "      <td>NaN</td>\n",
       "      <td>NaN</td>\n",
       "      <td>NaN</td>\n",
       "      <td>NaN</td>\n",
       "      <td>64.761692</td>\n",
       "      <td>NaN</td>\n",
       "      <td>0.515689</td>\n",
       "      <td>0.419566</td>\n",
       "      <td>NaN</td>\n",
       "    </tr>\n",
       "    <tr>\n",
       "      <th>std</th>\n",
       "      <td>NaN</td>\n",
       "      <td>NaN</td>\n",
       "      <td>0.368612</td>\n",
       "      <td>NaN</td>\n",
       "      <td>NaN</td>\n",
       "      <td>24.559481</td>\n",
       "      <td>NaN</td>\n",
       "      <td>NaN</td>\n",
       "      <td>NaN</td>\n",
       "      <td>NaN</td>\n",
       "      <td>...</td>\n",
       "      <td>NaN</td>\n",
       "      <td>NaN</td>\n",
       "      <td>NaN</td>\n",
       "      <td>NaN</td>\n",
       "      <td>NaN</td>\n",
       "      <td>30.090047</td>\n",
       "      <td>NaN</td>\n",
       "      <td>1.275299</td>\n",
       "      <td>1.250117</td>\n",
       "      <td>NaN</td>\n",
       "    </tr>\n",
       "    <tr>\n",
       "      <th>min</th>\n",
       "      <td>NaN</td>\n",
       "      <td>NaN</td>\n",
       "      <td>0.000000</td>\n",
       "      <td>NaN</td>\n",
       "      <td>NaN</td>\n",
       "      <td>0.000000</td>\n",
       "      <td>NaN</td>\n",
       "      <td>NaN</td>\n",
       "      <td>NaN</td>\n",
       "      <td>NaN</td>\n",
       "      <td>...</td>\n",
       "      <td>NaN</td>\n",
       "      <td>NaN</td>\n",
       "      <td>NaN</td>\n",
       "      <td>NaN</td>\n",
       "      <td>NaN</td>\n",
       "      <td>18.250000</td>\n",
       "      <td>NaN</td>\n",
       "      <td>0.000000</td>\n",
       "      <td>0.000000</td>\n",
       "      <td>NaN</td>\n",
       "    </tr>\n",
       "    <tr>\n",
       "      <th>25%</th>\n",
       "      <td>NaN</td>\n",
       "      <td>NaN</td>\n",
       "      <td>0.000000</td>\n",
       "      <td>NaN</td>\n",
       "      <td>NaN</td>\n",
       "      <td>9.000000</td>\n",
       "      <td>NaN</td>\n",
       "      <td>NaN</td>\n",
       "      <td>NaN</td>\n",
       "      <td>NaN</td>\n",
       "      <td>...</td>\n",
       "      <td>NaN</td>\n",
       "      <td>NaN</td>\n",
       "      <td>NaN</td>\n",
       "      <td>NaN</td>\n",
       "      <td>NaN</td>\n",
       "      <td>35.500000</td>\n",
       "      <td>NaN</td>\n",
       "      <td>0.000000</td>\n",
       "      <td>0.000000</td>\n",
       "      <td>NaN</td>\n",
       "    </tr>\n",
       "    <tr>\n",
       "      <th>50%</th>\n",
       "      <td>NaN</td>\n",
       "      <td>NaN</td>\n",
       "      <td>0.000000</td>\n",
       "      <td>NaN</td>\n",
       "      <td>NaN</td>\n",
       "      <td>29.000000</td>\n",
       "      <td>NaN</td>\n",
       "      <td>NaN</td>\n",
       "      <td>NaN</td>\n",
       "      <td>NaN</td>\n",
       "      <td>...</td>\n",
       "      <td>NaN</td>\n",
       "      <td>NaN</td>\n",
       "      <td>NaN</td>\n",
       "      <td>NaN</td>\n",
       "      <td>NaN</td>\n",
       "      <td>70.350000</td>\n",
       "      <td>NaN</td>\n",
       "      <td>0.000000</td>\n",
       "      <td>0.000000</td>\n",
       "      <td>NaN</td>\n",
       "    </tr>\n",
       "    <tr>\n",
       "      <th>75%</th>\n",
       "      <td>NaN</td>\n",
       "      <td>NaN</td>\n",
       "      <td>0.000000</td>\n",
       "      <td>NaN</td>\n",
       "      <td>NaN</td>\n",
       "      <td>55.000000</td>\n",
       "      <td>NaN</td>\n",
       "      <td>NaN</td>\n",
       "      <td>NaN</td>\n",
       "      <td>NaN</td>\n",
       "      <td>...</td>\n",
       "      <td>NaN</td>\n",
       "      <td>NaN</td>\n",
       "      <td>NaN</td>\n",
       "      <td>NaN</td>\n",
       "      <td>NaN</td>\n",
       "      <td>89.850000</td>\n",
       "      <td>NaN</td>\n",
       "      <td>0.000000</td>\n",
       "      <td>0.000000</td>\n",
       "      <td>NaN</td>\n",
       "    </tr>\n",
       "    <tr>\n",
       "      <th>max</th>\n",
       "      <td>NaN</td>\n",
       "      <td>NaN</td>\n",
       "      <td>1.000000</td>\n",
       "      <td>NaN</td>\n",
       "      <td>NaN</td>\n",
       "      <td>72.000000</td>\n",
       "      <td>NaN</td>\n",
       "      <td>NaN</td>\n",
       "      <td>NaN</td>\n",
       "      <td>NaN</td>\n",
       "      <td>...</td>\n",
       "      <td>NaN</td>\n",
       "      <td>NaN</td>\n",
       "      <td>NaN</td>\n",
       "      <td>NaN</td>\n",
       "      <td>NaN</td>\n",
       "      <td>118.750000</td>\n",
       "      <td>NaN</td>\n",
       "      <td>5.000000</td>\n",
       "      <td>9.000000</td>\n",
       "      <td>NaN</td>\n",
       "    </tr>\n",
       "  </tbody>\n",
       "</table>\n",
       "<p>11 rows × 23 columns</p>\n",
       "</div>"
      ],
      "text/plain": [
       "        customerID gender  SeniorCitizen Partner Dependents       tenure  \\\n",
       "count         7043   7043    7043.000000    7043       7043  7043.000000   \n",
       "unique        7043      2            NaN       2          2          NaN   \n",
       "top     7590-VHVEG   Male            NaN      No         No          NaN   \n",
       "freq             1   3555            NaN    3641       4933          NaN   \n",
       "mean           NaN    NaN       0.162147     NaN        NaN    32.371149   \n",
       "std            NaN    NaN       0.368612     NaN        NaN    24.559481   \n",
       "min            NaN    NaN       0.000000     NaN        NaN     0.000000   \n",
       "25%            NaN    NaN       0.000000     NaN        NaN     9.000000   \n",
       "50%            NaN    NaN       0.000000     NaN        NaN    29.000000   \n",
       "75%            NaN    NaN       0.000000     NaN        NaN    55.000000   \n",
       "max            NaN    NaN       1.000000     NaN        NaN    72.000000   \n",
       "\n",
       "       PhoneService MultipleLines InternetService OnlineSecurity  ...  \\\n",
       "count          7043          7043            7043           7043  ...   \n",
       "unique            2             3               3              3  ...   \n",
       "top             Yes            No     Fiber optic             No  ...   \n",
       "freq           6361          3390            3096           3498  ...   \n",
       "mean            NaN           NaN             NaN            NaN  ...   \n",
       "std             NaN           NaN             NaN            NaN  ...   \n",
       "min             NaN           NaN             NaN            NaN  ...   \n",
       "25%             NaN           NaN             NaN            NaN  ...   \n",
       "50%             NaN           NaN             NaN            NaN  ...   \n",
       "75%             NaN           NaN             NaN            NaN  ...   \n",
       "max             NaN           NaN             NaN            NaN  ...   \n",
       "\n",
       "       StreamingTV StreamingMovies        Contract PaperlessBilling  \\\n",
       "count         7043            7043            7043             7043   \n",
       "unique           3               3               3                2   \n",
       "top             No              No  Month-to-month              Yes   \n",
       "freq          2810            2785            3875             4171   \n",
       "mean           NaN             NaN             NaN              NaN   \n",
       "std            NaN             NaN             NaN              NaN   \n",
       "min            NaN             NaN             NaN              NaN   \n",
       "25%            NaN             NaN             NaN              NaN   \n",
       "50%            NaN             NaN             NaN              NaN   \n",
       "75%            NaN             NaN             NaN              NaN   \n",
       "max            NaN             NaN             NaN              NaN   \n",
       "\n",
       "           PaymentMethod MonthlyCharges TotalCharges numAdminTickets  \\\n",
       "count               7043    7043.000000         7043     7043.000000   \n",
       "unique                 4            NaN         6531             NaN   \n",
       "top     Electronic check            NaN                          NaN   \n",
       "freq                2365            NaN           11             NaN   \n",
       "mean                 NaN      64.761692          NaN        0.515689   \n",
       "std                  NaN      30.090047          NaN        1.275299   \n",
       "min                  NaN      18.250000          NaN        0.000000   \n",
       "25%                  NaN      35.500000          NaN        0.000000   \n",
       "50%                  NaN      70.350000          NaN        0.000000   \n",
       "75%                  NaN      89.850000          NaN        0.000000   \n",
       "max                  NaN     118.750000          NaN        5.000000   \n",
       "\n",
       "        numTechTickets Churn  \n",
       "count      7043.000000  7043  \n",
       "unique             NaN     2  \n",
       "top                NaN    No  \n",
       "freq               NaN  5174  \n",
       "mean          0.419566   NaN  \n",
       "std           1.250117   NaN  \n",
       "min           0.000000   NaN  \n",
       "25%           0.000000   NaN  \n",
       "50%           0.000000   NaN  \n",
       "75%           0.000000   NaN  \n",
       "max           9.000000   NaN  \n",
       "\n",
       "[11 rows x 23 columns]"
      ]
     },
     "execution_count": 4,
     "metadata": {},
     "output_type": "execute_result"
    }
   ],
   "source": [
    "# generating descriptive statistics of the data attributes\n",
    "df.describe(include='all')"
   ]
  },
  {
   "cell_type": "markdown",
   "id": "96a20029",
   "metadata": {},
   "source": [
    "## Data Exploration"
   ]
  },
  {
   "cell_type": "code",
   "execution_count": 5,
   "id": "978d9436",
   "metadata": {},
   "outputs": [
    {
     "name": "stdout",
     "output_type": "stream",
     "text": [
      "<class 'pandas.core.frame.DataFrame'>\n",
      "RangeIndex: 7043 entries, 0 to 7042\n",
      "Data columns (total 23 columns):\n",
      " #   Column            Non-Null Count  Dtype  \n",
      "---  ------            --------------  -----  \n",
      " 0   customerID        7043 non-null   object \n",
      " 1   gender            7043 non-null   object \n",
      " 2   SeniorCitizen     7043 non-null   int64  \n",
      " 3   Partner           7043 non-null   object \n",
      " 4   Dependents        7043 non-null   object \n",
      " 5   tenure            7043 non-null   int64  \n",
      " 6   PhoneService      7043 non-null   object \n",
      " 7   MultipleLines     7043 non-null   object \n",
      " 8   InternetService   7043 non-null   object \n",
      " 9   OnlineSecurity    7043 non-null   object \n",
      " 10  OnlineBackup      7043 non-null   object \n",
      " 11  DeviceProtection  7043 non-null   object \n",
      " 12  TechSupport       7043 non-null   object \n",
      " 13  StreamingTV       7043 non-null   object \n",
      " 14  StreamingMovies   7043 non-null   object \n",
      " 15  Contract          7043 non-null   object \n",
      " 16  PaperlessBilling  7043 non-null   object \n",
      " 17  PaymentMethod     7043 non-null   object \n",
      " 18  MonthlyCharges    7043 non-null   float64\n",
      " 19  TotalCharges      7043 non-null   object \n",
      " 20  numAdminTickets   7043 non-null   int64  \n",
      " 21  numTechTickets    7043 non-null   int64  \n",
      " 22  Churn             7043 non-null   object \n",
      "dtypes: float64(1), int64(4), object(18)\n",
      "memory usage: 1.2+ MB\n"
     ]
    }
   ],
   "source": [
    "# printing the information of the data attributes\n",
    "df.info()"
   ]
  },
  {
   "cell_type": "markdown",
   "id": "1f4fbeb0",
   "metadata": {},
   "source": [
    "An overview of the data shows that there are 7043 entries in the dataset, with no __explicit__ null values. It also shows that there are 20 parameters that determing the __Churn__ of a single client."
   ]
  },
  {
   "cell_type": "markdown",
   "id": "5ec69c4a",
   "metadata": {},
   "source": [
    "###### Checking for implicit null values"
   ]
  },
  {
   "cell_type": "code",
   "execution_count": 6,
   "id": "6f8e7b50",
   "metadata": {
    "scrolled": true
   },
   "outputs": [
    {
     "name": "stdout",
     "output_type": "stream",
     "text": [
      "customerID\n",
      "7590-VHVEG    1\n",
      "3791-LGQCY    1\n",
      "6008-NAIXK    1\n",
      "5956-YHHRX    1\n",
      "5365-LLFYV    1\n",
      "             ..\n",
      "9796-MVYXX    1\n",
      "2637-FKFSY    1\n",
      "1552-AAGRX    1\n",
      "4304-TSPVK    1\n",
      "3186-AJIEK    1\n",
      "Name: customerID, Length: 7043, dtype: int64\n",
      "_____________________________________________\n",
      "gender\n",
      "Male      3555\n",
      "Female    3488\n",
      "Name: gender, dtype: int64\n",
      "_____________________________________________\n",
      "SeniorCitizen\n",
      "0    5901\n",
      "1    1142\n",
      "Name: SeniorCitizen, dtype: int64\n",
      "_____________________________________________\n",
      "Partner\n",
      "No     3641\n",
      "Yes    3402\n",
      "Name: Partner, dtype: int64\n",
      "_____________________________________________\n",
      "Dependents\n",
      "No     4933\n",
      "Yes    2110\n",
      "Name: Dependents, dtype: int64\n",
      "_____________________________________________\n",
      "tenure\n",
      "1     613\n",
      "72    362\n",
      "2     238\n",
      "3     200\n",
      "4     176\n",
      "     ... \n",
      "28     57\n",
      "39     56\n",
      "44     51\n",
      "36     50\n",
      "0      11\n",
      "Name: tenure, Length: 73, dtype: int64\n",
      "_____________________________________________\n",
      "PhoneService\n",
      "Yes    6361\n",
      "No      682\n",
      "Name: PhoneService, dtype: int64\n",
      "_____________________________________________\n",
      "MultipleLines\n",
      "No                  3390\n",
      "Yes                 2971\n",
      "No phone service     682\n",
      "Name: MultipleLines, dtype: int64\n",
      "_____________________________________________\n",
      "InternetService\n",
      "Fiber optic    3096\n",
      "DSL            2421\n",
      "No             1526\n",
      "Name: InternetService, dtype: int64\n",
      "_____________________________________________\n",
      "OnlineSecurity\n",
      "No                     3498\n",
      "Yes                    2019\n",
      "No internet service    1526\n",
      "Name: OnlineSecurity, dtype: int64\n",
      "_____________________________________________\n",
      "OnlineBackup\n",
      "No                     3088\n",
      "Yes                    2429\n",
      "No internet service    1526\n",
      "Name: OnlineBackup, dtype: int64\n",
      "_____________________________________________\n",
      "DeviceProtection\n",
      "No                     3095\n",
      "Yes                    2422\n",
      "No internet service    1526\n",
      "Name: DeviceProtection, dtype: int64\n",
      "_____________________________________________\n",
      "TechSupport\n",
      "No                     3473\n",
      "Yes                    2044\n",
      "No internet service    1526\n",
      "Name: TechSupport, dtype: int64\n",
      "_____________________________________________\n",
      "StreamingTV\n",
      "No                     2810\n",
      "Yes                    2707\n",
      "No internet service    1526\n",
      "Name: StreamingTV, dtype: int64\n",
      "_____________________________________________\n",
      "StreamingMovies\n",
      "No                     2785\n",
      "Yes                    2732\n",
      "No internet service    1526\n",
      "Name: StreamingMovies, dtype: int64\n",
      "_____________________________________________\n",
      "Contract\n",
      "Month-to-month    3875\n",
      "Two year          1695\n",
      "One year          1473\n",
      "Name: Contract, dtype: int64\n",
      "_____________________________________________\n",
      "PaperlessBilling\n",
      "Yes    4171\n",
      "No     2872\n",
      "Name: PaperlessBilling, dtype: int64\n",
      "_____________________________________________\n",
      "PaymentMethod\n",
      "Electronic check             2365\n",
      "Mailed check                 1612\n",
      "Bank transfer (automatic)    1544\n",
      "Credit card (automatic)      1522\n",
      "Name: PaymentMethod, dtype: int64\n",
      "_____________________________________________\n",
      "MonthlyCharges\n",
      "20.05     61\n",
      "19.85     45\n",
      "19.95     44\n",
      "19.90     44\n",
      "20.00     43\n",
      "          ..\n",
      "23.65      1\n",
      "114.70     1\n",
      "43.65      1\n",
      "87.80      1\n",
      "78.70      1\n",
      "Name: MonthlyCharges, Length: 1585, dtype: int64\n",
      "_____________________________________________\n",
      "TotalCharges\n",
      "          11\n",
      "20.2      11\n",
      "19.75      9\n",
      "20.05      8\n",
      "19.9       8\n",
      "          ..\n",
      "6849.4     1\n",
      "692.35     1\n",
      "130.15     1\n",
      "3211.9     1\n",
      "6844.5     1\n",
      "Name: TotalCharges, Length: 6531, dtype: int64\n",
      "_____________________________________________\n",
      "numAdminTickets\n",
      "0    5842\n",
      "3     262\n",
      "5     245\n",
      "2     243\n",
      "4     228\n",
      "1     223\n",
      "Name: numAdminTickets, dtype: int64\n",
      "_____________________________________________\n",
      "numTechTickets\n",
      "0    6073\n",
      "1     256\n",
      "2     201\n",
      "3     151\n",
      "4     133\n",
      "5     116\n",
      "6      72\n",
      "7      29\n",
      "8      11\n",
      "9       1\n",
      "Name: numTechTickets, dtype: int64\n",
      "_____________________________________________\n",
      "Churn\n",
      "No     5174\n",
      "Yes    1869\n",
      "Name: Churn, dtype: int64\n",
      "_____________________________________________\n"
     ]
    }
   ],
   "source": [
    "for col in df.columns:\n",
    "    print(col)\n",
    "    print(df[col].value_counts())\n",
    "    print('_____________________________________________')"
   ]
  },
  {
   "cell_type": "markdown",
   "id": "4e9498b2",
   "metadata": {},
   "source": [
    "The __TotalCharges__ column is the only attribute that contains implicit null values. \n",
    "\n",
    "The implicit null value in the __TotalCharges__ column is just an empty column. This kind of value can't be detected by printing the information of the dataset. \n",
    "This will have to be dealt with for both train and test set since not all models can handle missing values."
   ]
  },
  {
   "cell_type": "markdown",
   "id": "3b0181ad",
   "metadata": {},
   "source": [
    "###### Checking duplicate\n",
    "Although the data shows no explicit null values, it is worth checking is the data contains __duplicate__ rows"
   ]
  },
  {
   "cell_type": "code",
   "execution_count": 7,
   "id": "3a32d5bb",
   "metadata": {},
   "outputs": [
    {
     "data": {
      "text/plain": [
       "0"
      ]
     },
     "execution_count": 7,
     "metadata": {},
     "output_type": "execute_result"
    }
   ],
   "source": [
    "# checking if there are any duplicated rows in the dataset\n",
    "df.columns.duplicated().sum()"
   ]
  },
  {
   "cell_type": "markdown",
   "id": "0a574d79",
   "metadata": {},
   "source": [
    "No Rows were duplicated in the dataset"
   ]
  },
  {
   "cell_type": "markdown",
   "id": "2bab673d",
   "metadata": {},
   "source": [
    "### Dropping some columns and rows and Correcting data types\n",
    "\n",
    "###### CustomerID column"
   ]
  },
  {
   "cell_type": "code",
   "execution_count": 8,
   "id": "e5ddc6fe",
   "metadata": {},
   "outputs": [
    {
     "data": {
      "text/plain": [
       "7590-VHVEG    1\n",
       "3791-LGQCY    1\n",
       "6008-NAIXK    1\n",
       "5956-YHHRX    1\n",
       "5365-LLFYV    1\n",
       "             ..\n",
       "9796-MVYXX    1\n",
       "2637-FKFSY    1\n",
       "1552-AAGRX    1\n",
       "4304-TSPVK    1\n",
       "3186-AJIEK    1\n",
       "Name: customerID, Length: 7043, dtype: int64"
      ]
     },
     "execution_count": 8,
     "metadata": {},
     "output_type": "execute_result"
    }
   ],
   "source": [
    "# checking the distinct values in the customerID column\n",
    "df.customerID.value_counts()"
   ]
  },
  {
   "cell_type": "markdown",
   "id": "22f425fa",
   "metadata": {},
   "source": [
    "The customer ID column contains distinct values for each customer in the data, hence has no relevance to the data."
   ]
  },
  {
   "cell_type": "code",
   "execution_count": 9,
   "id": "5920aa91",
   "metadata": {},
   "outputs": [],
   "source": [
    "# dropping the customerID column\n",
    "df.drop(\"customerID\", axis = 1, inplace = True)"
   ]
  },
  {
   "cell_type": "markdown",
   "id": "e0e9bf70",
   "metadata": {},
   "source": [
    "##### Total Charges column\n",
    "\n",
    "The total charges attributes have an object data type instead of a float data type (as seen from the first few values), hence some exploratory analysis has to be done for the attribute."
   ]
  },
  {
   "cell_type": "code",
   "execution_count": 10,
   "id": "d7e83d21",
   "metadata": {},
   "outputs": [
    {
     "data": {
      "text/plain": [
       "          11\n",
       "20.2      11\n",
       "19.75      9\n",
       "20.05      8\n",
       "19.9       8\n",
       "          ..\n",
       "6849.4     1\n",
       "692.35     1\n",
       "130.15     1\n",
       "3211.9     1\n",
       "6844.5     1\n",
       "Name: TotalCharges, Length: 6531, dtype: int64"
      ]
     },
     "execution_count": 10,
     "metadata": {},
     "output_type": "execute_result"
    }
   ],
   "source": [
    "# checking the distinct values in the TotalCharges column\n",
    "df.TotalCharges.value_counts()"
   ]
  },
  {
   "cell_type": "code",
   "execution_count": 11,
   "id": "b5126a5a",
   "metadata": {},
   "outputs": [
    {
     "data": {
      "text/html": [
       "<div>\n",
       "<style scoped>\n",
       "    .dataframe tbody tr th:only-of-type {\n",
       "        vertical-align: middle;\n",
       "    }\n",
       "\n",
       "    .dataframe tbody tr th {\n",
       "        vertical-align: top;\n",
       "    }\n",
       "\n",
       "    .dataframe thead th {\n",
       "        text-align: right;\n",
       "    }\n",
       "</style>\n",
       "<table border=\"1\" class=\"dataframe\">\n",
       "  <thead>\n",
       "    <tr style=\"text-align: right;\">\n",
       "      <th></th>\n",
       "      <th>gender</th>\n",
       "      <th>SeniorCitizen</th>\n",
       "      <th>Partner</th>\n",
       "      <th>Dependents</th>\n",
       "      <th>tenure</th>\n",
       "      <th>PhoneService</th>\n",
       "      <th>MultipleLines</th>\n",
       "      <th>InternetService</th>\n",
       "      <th>OnlineSecurity</th>\n",
       "      <th>OnlineBackup</th>\n",
       "      <th>...</th>\n",
       "      <th>StreamingTV</th>\n",
       "      <th>StreamingMovies</th>\n",
       "      <th>Contract</th>\n",
       "      <th>PaperlessBilling</th>\n",
       "      <th>PaymentMethod</th>\n",
       "      <th>MonthlyCharges</th>\n",
       "      <th>TotalCharges</th>\n",
       "      <th>numAdminTickets</th>\n",
       "      <th>numTechTickets</th>\n",
       "      <th>Churn</th>\n",
       "    </tr>\n",
       "  </thead>\n",
       "  <tbody>\n",
       "    <tr>\n",
       "      <th>488</th>\n",
       "      <td>Female</td>\n",
       "      <td>0</td>\n",
       "      <td>Yes</td>\n",
       "      <td>Yes</td>\n",
       "      <td>0</td>\n",
       "      <td>No</td>\n",
       "      <td>No phone service</td>\n",
       "      <td>DSL</td>\n",
       "      <td>Yes</td>\n",
       "      <td>No</td>\n",
       "      <td>...</td>\n",
       "      <td>Yes</td>\n",
       "      <td>No</td>\n",
       "      <td>Two year</td>\n",
       "      <td>Yes</td>\n",
       "      <td>Bank transfer (automatic)</td>\n",
       "      <td>52.55</td>\n",
       "      <td></td>\n",
       "      <td>0</td>\n",
       "      <td>0</td>\n",
       "      <td>No</td>\n",
       "    </tr>\n",
       "    <tr>\n",
       "      <th>753</th>\n",
       "      <td>Male</td>\n",
       "      <td>0</td>\n",
       "      <td>No</td>\n",
       "      <td>Yes</td>\n",
       "      <td>0</td>\n",
       "      <td>Yes</td>\n",
       "      <td>No</td>\n",
       "      <td>No</td>\n",
       "      <td>No internet service</td>\n",
       "      <td>No internet service</td>\n",
       "      <td>...</td>\n",
       "      <td>No internet service</td>\n",
       "      <td>No internet service</td>\n",
       "      <td>Two year</td>\n",
       "      <td>No</td>\n",
       "      <td>Mailed check</td>\n",
       "      <td>20.25</td>\n",
       "      <td></td>\n",
       "      <td>5</td>\n",
       "      <td>0</td>\n",
       "      <td>No</td>\n",
       "    </tr>\n",
       "    <tr>\n",
       "      <th>936</th>\n",
       "      <td>Female</td>\n",
       "      <td>0</td>\n",
       "      <td>Yes</td>\n",
       "      <td>Yes</td>\n",
       "      <td>0</td>\n",
       "      <td>Yes</td>\n",
       "      <td>No</td>\n",
       "      <td>DSL</td>\n",
       "      <td>Yes</td>\n",
       "      <td>Yes</td>\n",
       "      <td>...</td>\n",
       "      <td>Yes</td>\n",
       "      <td>Yes</td>\n",
       "      <td>Two year</td>\n",
       "      <td>No</td>\n",
       "      <td>Mailed check</td>\n",
       "      <td>80.85</td>\n",
       "      <td></td>\n",
       "      <td>0</td>\n",
       "      <td>0</td>\n",
       "      <td>No</td>\n",
       "    </tr>\n",
       "    <tr>\n",
       "      <th>1082</th>\n",
       "      <td>Male</td>\n",
       "      <td>0</td>\n",
       "      <td>Yes</td>\n",
       "      <td>Yes</td>\n",
       "      <td>0</td>\n",
       "      <td>Yes</td>\n",
       "      <td>Yes</td>\n",
       "      <td>No</td>\n",
       "      <td>No internet service</td>\n",
       "      <td>No internet service</td>\n",
       "      <td>...</td>\n",
       "      <td>No internet service</td>\n",
       "      <td>No internet service</td>\n",
       "      <td>Two year</td>\n",
       "      <td>No</td>\n",
       "      <td>Mailed check</td>\n",
       "      <td>25.75</td>\n",
       "      <td></td>\n",
       "      <td>1</td>\n",
       "      <td>0</td>\n",
       "      <td>No</td>\n",
       "    </tr>\n",
       "    <tr>\n",
       "      <th>1340</th>\n",
       "      <td>Female</td>\n",
       "      <td>0</td>\n",
       "      <td>Yes</td>\n",
       "      <td>Yes</td>\n",
       "      <td>0</td>\n",
       "      <td>No</td>\n",
       "      <td>No phone service</td>\n",
       "      <td>DSL</td>\n",
       "      <td>Yes</td>\n",
       "      <td>Yes</td>\n",
       "      <td>...</td>\n",
       "      <td>Yes</td>\n",
       "      <td>No</td>\n",
       "      <td>Two year</td>\n",
       "      <td>No</td>\n",
       "      <td>Credit card (automatic)</td>\n",
       "      <td>56.05</td>\n",
       "      <td></td>\n",
       "      <td>0</td>\n",
       "      <td>0</td>\n",
       "      <td>No</td>\n",
       "    </tr>\n",
       "  </tbody>\n",
       "</table>\n",
       "<p>5 rows × 22 columns</p>\n",
       "</div>"
      ],
      "text/plain": [
       "      gender  SeniorCitizen Partner Dependents  tenure PhoneService  \\\n",
       "488   Female              0     Yes        Yes       0           No   \n",
       "753     Male              0      No        Yes       0          Yes   \n",
       "936   Female              0     Yes        Yes       0          Yes   \n",
       "1082    Male              0     Yes        Yes       0          Yes   \n",
       "1340  Female              0     Yes        Yes       0           No   \n",
       "\n",
       "         MultipleLines InternetService       OnlineSecurity  \\\n",
       "488   No phone service             DSL                  Yes   \n",
       "753                 No              No  No internet service   \n",
       "936                 No             DSL                  Yes   \n",
       "1082               Yes              No  No internet service   \n",
       "1340  No phone service             DSL                  Yes   \n",
       "\n",
       "             OnlineBackup  ...          StreamingTV      StreamingMovies  \\\n",
       "488                    No  ...                  Yes                   No   \n",
       "753   No internet service  ...  No internet service  No internet service   \n",
       "936                   Yes  ...                  Yes                  Yes   \n",
       "1082  No internet service  ...  No internet service  No internet service   \n",
       "1340                  Yes  ...                  Yes                   No   \n",
       "\n",
       "      Contract PaperlessBilling              PaymentMethod MonthlyCharges  \\\n",
       "488   Two year              Yes  Bank transfer (automatic)          52.55   \n",
       "753   Two year               No               Mailed check          20.25   \n",
       "936   Two year               No               Mailed check          80.85   \n",
       "1082  Two year               No               Mailed check          25.75   \n",
       "1340  Two year               No    Credit card (automatic)          56.05   \n",
       "\n",
       "     TotalCharges  numAdminTickets numTechTickets  Churn  \n",
       "488                              0              0     No  \n",
       "753                              5              0     No  \n",
       "936                              0              0     No  \n",
       "1082                             1              0     No  \n",
       "1340                             0              0     No  \n",
       "\n",
       "[5 rows x 22 columns]"
      ]
     },
     "execution_count": 11,
     "metadata": {},
     "output_type": "execute_result"
    }
   ],
   "source": [
    "# printing the first five rows of the data where the TotalCharges is an empty string\n",
    "df[df.TotalCharges==' '].head()"
   ]
  },
  {
   "cell_type": "markdown",
   "id": "2700df9d",
   "metadata": {},
   "source": [
    "There are 11 entries of __TotalCharges__ that have implicit null values. "
   ]
  },
  {
   "cell_type": "code",
   "execution_count": 12,
   "id": "429fe874",
   "metadata": {},
   "outputs": [],
   "source": [
    "# replacing empty entry with pd.NaT\n",
    "df[\"TotalCharges\"] = df[\"TotalCharges\"].replace(' ', pd.NaT)\n",
    "\n",
    "# droping null values\n",
    "df.dropna(inplace = True)"
   ]
  },
  {
   "cell_type": "code",
   "execution_count": 13,
   "id": "041d6104",
   "metadata": {},
   "outputs": [
    {
     "data": {
      "text/plain": [
       "20.20      11\n",
       "19.75       9\n",
       "20.05       8\n",
       "19.90       8\n",
       "19.65       8\n",
       "           ..\n",
       "6849.40     1\n",
       "692.35      1\n",
       "130.15      1\n",
       "3211.90     1\n",
       "6844.50     1\n",
       "Name: TotalCharges, Length: 6530, dtype: int64"
      ]
     },
     "execution_count": 13,
     "metadata": {},
     "output_type": "execute_result"
    }
   ],
   "source": [
    "# checking the distinct values in the TotalCharges column to make sure the empty string values have been removed\n",
    "df.TotalCharges.value_counts()"
   ]
  },
  {
   "cell_type": "markdown",
   "id": "38ddd78e",
   "metadata": {},
   "source": [
    "Since there are now no empty string values, the column can now be converted into the right data type"
   ]
  },
  {
   "cell_type": "code",
   "execution_count": 14,
   "id": "199f2613",
   "metadata": {},
   "outputs": [
    {
     "data": {
      "text/plain": [
       "dtype('float64')"
      ]
     },
     "execution_count": 14,
     "metadata": {},
     "output_type": "execute_result"
    }
   ],
   "source": [
    "# changing the data type of the TotalCharges column\n",
    "df[\"TotalCharges\"] = df[\"TotalCharges\"].astype('float')\n",
    "\n",
    "# checking the type of the TotalCharges column\n",
    "df[\"TotalCharges\"].dtypes"
   ]
  },
  {
   "cell_type": "markdown",
   "id": "018c2058",
   "metadata": {},
   "source": [
    "The data type has successfully been converted to a float data type"
   ]
  },
  {
   "cell_type": "markdown",
   "id": "48759ef3",
   "metadata": {},
   "source": [
    "##### SeniorCitizen\n",
    "\n",
    "Even though the __SeniorCitizen__ column contains __0__ and __1__ and has an __int64__ data type it represents classes. These values will have to be encoded to represent the classes __Yes__ and __No__, using the Column Transformer"
   ]
  },
  {
   "cell_type": "code",
   "execution_count": 15,
   "id": "fb4001c0",
   "metadata": {},
   "outputs": [
    {
     "data": {
      "text/plain": [
       "0    5890\n",
       "1    1142\n",
       "Name: SeniorCitizen, dtype: int64"
      ]
     },
     "execution_count": 15,
     "metadata": {},
     "output_type": "execute_result"
    }
   ],
   "source": [
    "# printing the first 5 rows of the data\n",
    "df['SeniorCitizen'].value_counts()"
   ]
  },
  {
   "cell_type": "markdown",
   "id": "881c262a",
   "metadata": {},
   "source": [
    "The values and the data types of the column has been changed."
   ]
  },
  {
   "cell_type": "markdown",
   "id": "80ced7bc",
   "metadata": {},
   "source": [
    "## Feature Engineering"
   ]
  },
  {
   "cell_type": "markdown",
   "id": "872589a3",
   "metadata": {},
   "source": [
    "This section deals with transforming the features of the data to suit the task at hand. This section involved:\n",
    "1. Standardizing the numerical columns\n",
    "2. Encoding the categorical columns\n",
    "3. Upsampling to ensure the different classes of the target variable have the same count.\n",
    "\n"
   ]
  },
  {
   "cell_type": "markdown",
   "id": "972f6da8",
   "metadata": {},
   "source": [
    "### Splitting the data into train and test set\n",
    "\n",
    "Before beginning these processes, the data is split into train and test set to prevent data leakage. The data predictors are first assigned to x_data and the target variable is assigned to y_data. These two datasets are then split using the sklearn's __train_test_split__ using a test_size of _33%_. \n",
    "\n",
    "This will randomly assign _33%_ of the values to the __testset__ and _67%_ of the values to the __trainset__."
   ]
  },
  {
   "cell_type": "code",
   "execution_count": 16,
   "id": "c227acb3",
   "metadata": {},
   "outputs": [],
   "source": [
    "# splitting the trainset into dependent and independent sets. The Churn column is the value to be predicted\n",
    "x_data = df.drop('Churn', axis=1)\n",
    "y_data = df['Churn']"
   ]
  },
  {
   "cell_type": "code",
   "execution_count": 17,
   "id": "b634ebc7",
   "metadata": {},
   "outputs": [
    {
     "name": "stdout",
     "output_type": "stream",
     "text": [
      "X train dataset has a size: (4711, 21)\n",
      "Y train dataset has a size: (4711,)\n",
      "X test dataset has a size: (2321, 21)\n",
      "Y test dataset has a size: (2321,)\n"
     ]
    }
   ],
   "source": [
    "# splitting the trainset into a training set and a testing set.\n",
    "x_train, x_test, y_train, y_test = train_test_split(x_data, y_data, test_size=0.33, random_state=4)\n",
    "\n",
    "# printing the shapes of the train and test data\n",
    "print(\"X train dataset has a size:\", x_train.shape)\n",
    "print(\"Y train dataset has a size:\", y_train.shape)\n",
    "print(\"X test dataset has a size:\", x_test.shape)\n",
    "print(\"Y test dataset has a size:\", y_test.shape)"
   ]
  },
  {
   "cell_type": "code",
   "execution_count": 18,
   "id": "061a0e8e",
   "metadata": {},
   "outputs": [
    {
     "name": "stdout",
     "output_type": "stream",
     "text": [
      "Value count of classes of the target variable\n",
      " No     3491\n",
      "Yes    1220\n",
      "Name: Churn, dtype: int64\n"
     ]
    }
   ],
   "source": [
    "# checking the number of distinct classes in the target variable\n",
    "print(\"Value count of classes of the target variable\\n\", y_train.value_counts())"
   ]
  },
  {
   "cell_type": "markdown",
   "id": "096af5e7",
   "metadata": {},
   "source": [
    "The target varaible contains an imbalanced number of classes"
   ]
  },
  {
   "cell_type": "markdown",
   "id": "da1a08bf",
   "metadata": {},
   "source": [
    "### Visualizing the numerical attributes"
   ]
  },
  {
   "cell_type": "code",
   "execution_count": 19,
   "id": "d9c3a1b0",
   "metadata": {},
   "outputs": [
    {
     "data": {
      "image/png": "[encoded data removed]",
      "text/plain": [
       "<Figure size 1000x1500 with 16 Axes>"
      ]
     },
     "metadata": {},
     "output_type": "display_data"
    }
   ],
   "source": [
    "# plotting histograms of the various attributes using 10 bins\n",
    "x_train.hist(bins=10, figsize=(10, 15), layout=(4,4))\n",
    "plt.show()"
   ]
  },
  {
   "cell_type": "markdown",
   "id": "86ac97fc",
   "metadata": {},
   "source": [
    "The histogram plots of the various attributes helps to determine the scaling method to use to standardize the attributes. \n",
    "\n",
    "###### Histogram Takeaways\n",
    " __Tenure__ , __MonthlyCharges__  and __TotalCharges__ show a larger range than the rest of the numerical attributes. Hence those columns will have to be scaled to be within the range of the other attributes.\n",
    " \n",
    "However, the numerical columns will be standardized since doing that gave a higher accuracy than when they were not. __Senior Citizen__ will be encoded since it is not really a numerical value but a __Yes__ or __No__ value.\n"
   ]
  },
  {
   "cell_type": "markdown",
   "id": "d57d1794",
   "metadata": {},
   "source": [
    "### Encoding using ColumnTransformer\n",
    "\n",
    "Column Transformer provides a comprehensive way to standardize and encode data.\n",
    "\n",
    "In using the column transformer, we have to specify the preprocessing method for both categorical and numerical. The StandardScaler and OneHotEncoder showed a higher accuracy than other stardization and encoding methods. \n",
    "\n",
    "In this column transformer, the StandardScaler is used to scale the numeric data and the OneHotEncoder is using to encode categorical data. handle_unkown is set to ignore to enable the transformer ignore any class that was not in the dataset used in the fitting of the transformer. "
   ]
  },
  {
   "cell_type": "code",
   "execution_count": 20,
   "id": "748bf5a2",
   "metadata": {},
   "outputs": [],
   "source": [
    "# The scalers, encoders and the columns to scale and encode are passed as parameters into the column transformer \n",
    "\n",
    "# creating a column transformer object\n",
    "transformer = ColumnTransformer([\n",
    "    ('scale', StandardScaler(with_mean=False), ['tenure', 'MonthlyCharges', 'TotalCharges', 'numAdminTickets',\n",
    "                                                'numTechTickets']),\n",
    "    ('onehot', OneHotEncoder(handle_unknown = 'ignore'), ['InternetService', 'MultipleLines', 'DeviceProtection',\n",
    "                                                          'OnlineSecurity','OnlineBackup', 'StreamingMovies', 'TechSupport',\n",
    "                                                          'Contract', 'PaymentMethod','gender', 'SeniorCitizen',\n",
    "                                                          'Partner', 'Dependents','PhoneService', 'PaperlessBilling',\n",
    "                                                          'StreamingTV'])\n",
    "    ])"
   ]
  },
  {
   "cell_type": "code",
   "execution_count": 21,
   "id": "674b0584",
   "metadata": {},
   "outputs": [
    {
     "data": {
      "text/plain": [
       "ColumnTransformer(transformers=[('scale', StandardScaler(with_mean=False),\n",
       "                                 ['tenure', 'MonthlyCharges', 'TotalCharges',\n",
       "                                  'numAdminTickets', 'numTechTickets']),\n",
       "                                ('onehot',\n",
       "                                 OneHotEncoder(handle_unknown='ignore'),\n",
       "                                 ['InternetService', 'MultipleLines',\n",
       "                                  'DeviceProtection', 'OnlineSecurity',\n",
       "                                  'OnlineBackup', 'StreamingMovies',\n",
       "                                  'TechSupport', 'Contract', 'PaymentMethod',\n",
       "                                  'gender', 'SeniorCitizen', 'Partner',\n",
       "                                  'Dependents', 'PhoneService',\n",
       "                                  'PaperlessBilling', 'StreamingTV'])])"
      ]
     },
     "execution_count": 21,
     "metadata": {},
     "output_type": "execute_result"
    }
   ],
   "source": [
    "# fitting the transformer on the train set\n",
    "transformer.fit(x_train)"
   ]
  },
  {
   "cell_type": "code",
   "execution_count": 22,
   "id": "4a4c68a3",
   "metadata": {},
   "outputs": [],
   "source": [
    "# transforming both the train and test set\n",
    "x_train = transformer.transform(x_train)\n",
    "x_test = transformer.transform(x_test)"
   ]
  },
  {
   "cell_type": "code",
   "execution_count": 23,
   "id": "ddc9e4a2",
   "metadata": {},
   "outputs": [
    {
     "name": "stdout",
     "output_type": "stream",
     "text": [
      "X train dataset has a size after transforming:  (4711, 48)\n",
      "X test dataset has a size after transforming:  (2321, 48)\n"
     ]
    }
   ],
   "source": [
    "# printing the shape of the data\n",
    "print(\"X train dataset has a size after transforming: \",x_train.shape)\n",
    "print(\"X test dataset has a size after transforming: \",x_test.shape)"
   ]
  },
  {
   "cell_type": "markdown",
   "id": "b80c1bd1",
   "metadata": {},
   "source": [
    "## Handling Imbalanced Data\n",
    "\n",
    "Imbalanced data occurs when the distribution of classes is uneven. The class with the highest count in the target class is termed the majority class and the other class or classes are termed the minority class.\n",
    "Imbalanced data can cause machine learning models to have lower accuracy, as they may be biased towards the majority class and fail to properly classify the minority class."
   ]
  },
  {
   "cell_type": "markdown",
   "id": "ad33cf64",
   "metadata": {},
   "source": [
    "### Using the Synthetic Minority Over-sampling Technique (SMOTE) to handle the imbalanced dataset\n",
    "\n",
    "The SMOTE technique creates synthetic data of the minority class to balance the majority class. \n",
    "\n",
    "__NOTE__: Introducing synthetic data also introducing some sort of bias into the dataset that will be used to train the model.\n",
    "\n",
    "Correcting an imbalance in the count of the classes of the target variable prevents the model from learning too much form the majority class and assume that it has a higher significance, and being baised towards the class with a few values. \n"
   ]
  },
  {
   "cell_type": "code",
   "execution_count": 24,
   "id": "3a4dcab6",
   "metadata": {},
   "outputs": [
    {
     "name": "stdout",
     "output_type": "stream",
     "text": [
      "Value count of classes of the target variable\n",
      " No     3491\n",
      "Yes    1220\n",
      "Name: Churn, dtype: int64\n"
     ]
    }
   ],
   "source": [
    "# checking the counts of classes of the target variable\n",
    "print(\"Value count of classes of the target variable\\n\", y_train.value_counts())"
   ]
  },
  {
   "cell_type": "markdown",
   "id": "914fa6ef",
   "metadata": {},
   "source": [
    "Looking at the Class attribute which is the target variable, there is an imbalance in the 2 classes. Creating a model with this imbalance is going to give more precedence to the No class and the least to the Yes class.\n",
    "\n",
    "To correct this, the SMOTE technique is used to upsample the dataset.\n",
    "\n",
    "__Note__: Training the model without balancing the target variable classes only marginally improved the accuracy of the different models."
   ]
  },
  {
   "cell_type": "code",
   "execution_count": 25,
   "id": "71038193",
   "metadata": {},
   "outputs": [],
   "source": [
    "# creating the SMOTE instance where the five closest neighbors to a point are used to generate a new point\n",
    "smote = SMOTE(sampling_strategy='auto', k_neighbors=5)\n",
    "\n",
    "# fitting and resampling the dataset to create new synthetic datapoints\n",
    "x_train, y_train = smote.fit_resample(x_train, y_train)\n"
   ]
  },
  {
   "cell_type": "code",
   "execution_count": 26,
   "id": "c7621f00",
   "metadata": {},
   "outputs": [
    {
     "name": "stdout",
     "output_type": "stream",
     "text": [
      "X train dataset has a size after upsampling:  (6982, 48)\n",
      "Y train dataset has a size after upsampling:  (6982,)\n"
     ]
    }
   ],
   "source": [
    "# printing the shape of the new train data\n",
    "print(\"X train dataset has a size after upsampling: \",x_train.shape)\n",
    "print(\"Y train dataset has a size after upsampling: \",y_train.shape)"
   ]
  },
  {
   "cell_type": "code",
   "execution_count": 27,
   "id": "d01c28a5",
   "metadata": {},
   "outputs": [
    {
     "name": "stdout",
     "output_type": "stream",
     "text": [
      "Value count of classes of the target variable\n",
      " No     3491\n",
      "Yes    3491\n",
      "Name: Churn, dtype: int64\n"
     ]
    }
   ],
   "source": [
    "# checkinig the counts of the classes of the target variable\n",
    "print(\"Value count of classes of the target variable\\n\", y_train.value_counts())"
   ]
  },
  {
   "cell_type": "markdown",
   "id": "9aa9715c",
   "metadata": {},
   "source": [
    "The dataset now has a target variable with a balanced number of classes: __3491__. The dataset has also increased from __4711__ to __6982__ entries."
   ]
  },
  {
   "cell_type": "markdown",
   "id": "f70ac265",
   "metadata": {},
   "source": [
    "### Dimentionality reduction\n",
    "\n",
    "Performing dimentionality reduction reduced the values of all the evaluation metrics. \n",
    "Since the dataset contains only 37 predictors, reducing the number of attributes could potentially remove valuable data. Hence, there is no need for dimentionality reduction"
   ]
  },
  {
   "cell_type": "markdown",
   "id": "d7802068",
   "metadata": {},
   "source": [
    "### This is the end of Feature Engineering"
   ]
  },
  {
   "cell_type": "markdown",
   "id": "859589f8",
   "metadata": {},
   "source": [
    "## Model Building\n",
    "\n",
    "This session involves creating models and checking the accuracies of the model to make predictions. In this section, the hyperparameters of the best models will be tuned to give the best accuracy and the model with the highest accuracy will be finally used to make prediction.\n",
    "\n"
   ]
  },
  {
   "cell_type": "code",
   "execution_count": 28,
   "id": "723932b1",
   "metadata": {},
   "outputs": [
    {
     "name": "stdout",
     "output_type": "stream",
     "text": [
      "X train dataset has a size: (6982, 48)\n",
      "Y train dataset has a size: (6982,)\n",
      "X test dataset has a size: (2321, 48)\n",
      "Y test dataset has a size: (2321,)\n"
     ]
    }
   ],
   "source": [
    "# printing the shape of the train and test data\n",
    "print(\"X train dataset has a size:\", x_train.shape)\n",
    "print(\"Y train dataset has a size:\", y_train.shape)\n",
    "print(\"X test dataset has a size:\", x_test.shape)\n",
    "print(\"Y test dataset has a size:\", y_test.shape)"
   ]
  },
  {
   "cell_type": "markdown",
   "id": "6c485be1",
   "metadata": {},
   "source": [
    "Since this tasks requires customers to be classified as whether the left or not, it is a __Classification__ problem and since the data used to train the model has a labeled target variable __Supervised Classification__ models will be developed and tuned. The supervised classification models considered are \n",
    "1. Decision Tree Classifier\n",
    "2. Random Forest Classifier\n",
    "3. Support Vector Machines\n",
    "4. K Neighbors Classifier.\n",
    "\n",
    "Some selcted hyperparameters of these models will be tuned and their accuracies will be measured using Grid Search. A cross validation value (cv) of 5 will be set in order to split the train data into 5 parts and at each iteration 4 parts will be used to train the model and 1 part will be used to test the model for its accuracy. "
   ]
  },
  {
   "cell_type": "markdown",
   "id": "06673fb0",
   "metadata": {},
   "source": [
    "## Performing Hyperparameter Tuning using GridSearchCV\n",
    "\n",
    "Hyperparameter tuning allows for different hyperparameters to be trained and evaluated at the same time. Accuracy is used as an evaluation metric for the tuning process."
   ]
  },
  {
   "cell_type": "markdown",
   "id": "21a6ca1f",
   "metadata": {},
   "source": [
    "### Tuning the hyperparameters of a Decision Tree Classifier\n",
    "\n",
    "default hyperparameter for decision tree are: \n",
    "criterion = 'gini', max_depth = None, min_samples_split = 2, max_leaf_nodes = none"
   ]
  },
  {
   "cell_type": "code",
   "execution_count": 29,
   "id": "cc80013e",
   "metadata": {},
   "outputs": [
    {
     "name": "stdout",
     "output_type": "stream",
     "text": [
      "Accurary of best decision tree classifier = 83.82%\n",
      "Best hyperparameter for the model = {'criterion': 'gini', 'max_depth': 5, 'max_leaf_nodes': 9, 'min_samples_split': 2}\n"
     ]
    }
   ],
   "source": [
    "# specifying the parameters\n",
    "parameters = {\"criterion\": (\"gini\", \"entropy\"), \n",
    "              'max_depth':range(1, 10), \n",
    "              'min_samples_split':range(2, 10), \n",
    "              'max_leaf_nodes':range(2, 10)}\n",
    "\n",
    "# creating the grid search model and setting the number of cross validations to 5\n",
    "model_2 = GridSearchCV(DecisionTreeClassifier(), parameters, scoring='accuracy', cv=5, n_jobs=-1)\n",
    "\n",
    "# training the model\n",
    "model_2.fit(x_train, y_train)\n",
    "\n",
    "# Checking accurary of the model and the best hyperparameters\n",
    "print(\"Accurary of best decision tree classifier = {:.2f}%\".format(model_2.best_score_*100))\n",
    "print(\"Best hyperparameter for the model = {}\".format(model_2.best_params_))\n"
   ]
  },
  {
   "cell_type": "markdown",
   "id": "4cde77cc",
   "metadata": {},
   "source": [
    "### Tuning the hyperparameters of a Random Forest Classifier\n",
    "\n",
    "Default values of the hyperparameters a Random Forest model that will be tuned are:\n",
    "n_estimators=100, criterion = 'gini' , max_depth = None"
   ]
  },
  {
   "cell_type": "code",
   "execution_count": 30,
   "id": "8ce56ed8",
   "metadata": {},
   "outputs": [
    {
     "name": "stdout",
     "output_type": "stream",
     "text": [
      "Accurary of best random forest classifier = 90.13%\n",
      "Best hyperparameter for the model = {'criterion': 'gini', 'max_depth': 25, 'n_estimators': 200}\n"
     ]
    }
   ],
   "source": [
    "# defining the hyperparameters\n",
    "param_grid = {\"n_estimators\":[100, 200, 300, 400, 500], \n",
    "              \"criterion\":['gini', 'entropy'], \n",
    "              \"max_depth\":range(20, 30, 5)}\n",
    "\n",
    "# creating the grid search model and setting the number of cross validations to 5\n",
    "model_3 = GridSearchCV(RandomForestClassifier(), param_grid, scoring='accuracy', cv=5, n_jobs=-1)\n",
    "\n",
    "# training the model\n",
    "model_3.fit(x_train, y_train)\n",
    "\n",
    "# Checking accurary of the model and the best hyperparameters\n",
    "print(\"Accurary of best random forest classifier = {:.2f}%\".format(model_3.best_score_*100))\n",
    "print(\"Best hyperparameter for the model = {}\".format(model_3.best_params_))"
   ]
  },
  {
   "cell_type": "markdown",
   "id": "23fb69d1",
   "metadata": {},
   "source": [
    "### Tuning the hyperparameters of a Support Vector Machine\n",
    "\n",
    "Default values of the hyperparameters a Support Vector Machine that will be tuned are:\n",
    "kernel = 'rbf', C = 1.0, degree = 3"
   ]
  },
  {
   "cell_type": "code",
   "execution_count": 31,
   "id": "2b7bd62f",
   "metadata": {},
   "outputs": [
    {
     "name": "stdout",
     "output_type": "stream",
     "text": [
      "Accurary of best logistic regression model = 88.43%\n",
      "Best hyperparameter for the model = {'C': 4, 'degree': 4, 'kernel': 'poly'}\n"
     ]
    }
   ],
   "source": [
    "# specifying the hyperparameters\n",
    "param_grid = {'kernel' : ('linear', 'poly', 'rbf', 'sigmoid'),\n",
    "              'C':range(1,5),\n",
    "              'degree':range(1, 5)}\n",
    "\n",
    "# creating the grid search model and setting the number of cross validations to 5\n",
    "model_4 = GridSearchCV(SVC(), param_grid, scoring='accuracy', cv=5, n_jobs=-1)\n",
    "\n",
    "# training the model\n",
    "model_4.fit(x_train, y_train)\n",
    "\n",
    "# Checking accurary of the model and the best hyperparameters\n",
    "print(\"Accurary of best logistic regression model = {:.2f}%\".format(model_4.best_score_*100))\n",
    "print(\"Best hyperparameter for the model = {}\".format(model_4.best_params_))"
   ]
  },
  {
   "cell_type": "markdown",
   "id": "beb1c243",
   "metadata": {},
   "source": [
    "### Tuning the hyperparameters of a K Neighbors Classifier\n",
    "\n",
    "Default values of the hyperparameters a K Neighbors Classifier that will be tuned are: n_neighbors = 5, weights = 'uniform, algorithm = 'auto'\n"
   ]
  },
  {
   "cell_type": "code",
   "execution_count": 32,
   "id": "336f7599",
   "metadata": {},
   "outputs": [
    {
     "name": "stdout",
     "output_type": "stream",
     "text": [
      "Accurary of best Light Gradient Boosting model = 88.18%\n",
      "Best hyperparameter for the model = {'algorithm': 'ball_tree', 'n_neighbors': 1, 'weights': 'uniform'}\n"
     ]
    }
   ],
   "source": [
    "# defining the hyperparameters\n",
    "params = {\"n_neighbors\":range(1, 10), \n",
    "          \"weights\":['uniform', 'distance'], \n",
    "          \"algorithm\":['auto', 'ball_tree', 'kd_tree','brute']}\n",
    "\n",
    "# creating the grid search model and setting the number of cross validations to 5\n",
    "model_5 = GridSearchCV(KNeighborsClassifier(), params, scoring='accuracy', cv=5, n_jobs=-1)\n",
    "\n",
    "# training the model\n",
    "model_5.fit(x_train, y_train)\n",
    "\n",
    "# Checking accurary of the model and the best hyperparameters\n",
    "print(\"Accurary of best Light Gradient Boosting model = {:.2f}%\".format(model_5.best_score_*100))\n",
    "print(\"Best hyperparameter for the model = {}\".format(model_5.best_params_))"
   ]
  },
  {
   "cell_type": "markdown",
   "id": "6c8e9fd9",
   "metadata": {},
   "source": [
    "### Insight after hyperparameter tuning"
   ]
  },
  {
   "cell_type": "markdown",
   "id": "631343d7",
   "metadata": {},
   "source": [
    "After Hyperparameter tuning of the model, the __Random Forest Classifier__ showed the highest accuracy of __90.46%__. This model will be used to finally test on the test set and since refit is set to __True__, the model is ready to use."
   ]
  },
  {
   "cell_type": "markdown",
   "id": "aac26fdf",
   "metadata": {},
   "source": [
    "## Testing The Best Model\n",
    "In this section the best model trained is used and evaluated on the trainset. The Accuracy, Precision, Recall, F1 Score and the Confusion Matrix are printed out for the evaluation of the model."
   ]
  },
  {
   "cell_type": "markdown",
   "id": "49777731",
   "metadata": {},
   "source": [
    "The best model trained in the hyperparmeter tuning section was the __Random Forest Classifier__ (model_3). This model is used to predict values of the test set and evaluate its performance."
   ]
  },
  {
   "cell_type": "code",
   "execution_count": 33,
   "id": "0053fafc",
   "metadata": {
    "scrolled": true
   },
   "outputs": [
    {
     "name": "stdout",
     "output_type": "stream",
     "text": [
      "Accuracy =  0.8440327445066782\n",
      "Precision =  [0.88393904 0.73333333]\n",
      "Recall =  [0.90191388 0.69491525]\n",
      "F1-Score =  [0.892836   0.71360759]\n",
      "\n",
      "Confusion Matrix = \n",
      " [[1508  164]\n",
      " [ 198  451]]\n"
     ]
    }
   ],
   "source": [
    "# making predictions using the test dataset\n",
    "y_predicted = model_3.predict(x_test)\n",
    "\n",
    "# calculating the accuracy\n",
    "accuracy = accuracy_score(y_test, y_predicted)\n",
    "\n",
    "# creating the confusion matrix\n",
    "cm = confusion_matrix(y_test, y_predicted)\n",
    "\n",
    "# calculating precision, recall, and f1 score\n",
    "precision, recall, f1, support = score(y_test, y_predicted)\n",
    "\n",
    "# printing the evaluation metrics\n",
    "print(\"Accuracy = \", accuracy)\n",
    "print(\"Precision = \", precision)\n",
    "print(\"Recall = \", recall)\n",
    "print(\"F1-Score = \", f1)\n",
    "print(\"\\nConfusion Matrix = \\n\", cm)"
   ]
  },
  {
   "cell_type": "markdown",
   "id": "4e4e75de",
   "metadata": {},
   "source": [
    "As a telecom business the number of clients lost will cost the company. Predicting the correct number of clients who will be leaving the company and putting measures in place to prevent this will be the overall goal.  Hence __Precision__ of the __\"Yes\"__ class is the evaluation metric that will be considered. \n",
    "\n",
    "Precision of the __\"Yes\"__ class is __73.33%__. This shows that the model is able to classify the customers who are going to leave the company approximately __73%__ of the time. It is not a very high value, but it could be a starting point to other predictions methods.  "
   ]
  },
  {
   "cell_type": "markdown",
   "id": "6e218095",
   "metadata": {},
   "source": [
    "### FINAL DISCUSSION AND CONCLUSION\n",
    "\n",
    "##### Limitation\n",
    "1. The number of entries was quite low to create a very accurate model.\n",
    "2. The predictive variables might have not a been lot to give more information about the clients reason to stay or leave, since the data was only data recorded in the company's database.\n",
    "\n",
    "##### Implications\n",
    "The company could potentially reduce the number of clients that churn after implementing this model\n",
    "\n",
    "##### Variance Bias Tradeoff\n",
    "The model does not overfit on the training data and predicts well on the test data, hence there is a low effect of variance-bias tradeoff on the model."
   ]
  },
  {
   "cell_type": "code",
   "execution_count": null,
   "id": "c910f7bd",
   "metadata": {},
   "outputs": [],
   "source": []
  },
  {
   "cell_type": "code",
   "execution_count": null,
   "id": "8344ffb8",
   "metadata": {},
   "outputs": [],
   "source": []
  }
 ],
 "metadata": {
  "kernelspec": {
   "display_name": "Python 3 (ipykernel)",
   "language": "python",
   "name": "python3"
  },
  "language_info": {
   "codemirror_mode": {
    "name": "ipython",
    "version": 3
   },
   "file_extension": ".py",
   "mimetype": "text/x-python",
   "name": "python",
   "nbconvert_exporter": "python",
   "pygments_lexer": "ipython3",
   "version": "3.9.13"
  }
 },
 "nbformat": 4,
 "nbformat_minor": 5
}
